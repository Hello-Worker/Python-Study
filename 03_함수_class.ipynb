{
 "cells": [
  {
   "cell_type": "code",
   "execution_count": 1,
   "metadata": {},
   "outputs": [
    {
     "ename": "SyntaxError",
     "evalue": "invalid syntax (<ipython-input-1-0338972677d8>, line 1)",
     "output_type": "error",
     "traceback": [
      "\u001b[1;36m  File \u001b[1;32m\"<ipython-input-1-0338972677d8>\"\u001b[1;36m, line \u001b[1;32m1\u001b[0m\n\u001b[1;33m    정보를 처리한다.\u001b[0m\n\u001b[1;37m        ^\u001b[0m\n\u001b[1;31mSyntaxError\u001b[0m\u001b[1;31m:\u001b[0m invalid syntax\n"
     ]
    }
   ],
   "source": [
    "정보를 처리한다.\n",
    "정보-데이터-변수/리터럴값\n",
    "처리한다 - 연산자/함수"
   ]
  },
  {
   "cell_type": "code",
   "execution_count": 3,
   "metadata": {},
   "outputs": [],
   "source": [
    "# +,-,*,/,//,%,> < >= <= != == &, | ="
   ]
  },
  {
   "cell_type": "code",
   "execution_count": 4,
   "metadata": {},
   "outputs": [
    {
     "name": "stdout",
     "output_type": "stream",
     "text": [
      "30\n",
      "30\n"
     ]
    }
   ],
   "source": [
    "print(10 + 20)\n",
    "v = 10 + 20\n",
    "print(v)"
   ]
  },
  {
   "cell_type": "code",
   "execution_count": 5,
   "metadata": {},
   "outputs": [
    {
     "name": "stdout",
     "output_type": "stream",
     "text": [
      "6\n"
     ]
    }
   ],
   "source": [
    "v = sum([1,2,3])\n",
    "# [1,2,3]: 매개변수, 6:리턴값, sum()함수 = 연산자\n",
    "print(v)"
   ]
  },
  {
   "cell_type": "markdown",
   "metadata": {},
   "source": [
    "## 함수\n",
    "- 사용자 정의 연산자\n",
    "    def 함수이름([변수, 변수, ..]): #변수: 파라미터, 매개변수\n",
    "        실행문\n",
    "        실행문\n",
    "        [return반환값] #return이 실행 안되면 None이 반환.\n",
    "\n",
    "- 함수이름: 관례적으로 소문자만 사용. 단어와 단어는 '_'로 연결.\n",
    "    - 어떤 값을 제공하는 함수: get_제공하는 값.\n",
    "        - ex) get_name(), get_age()\n",
    "    - 어떤 값을 변경하는 함수: set_변경할 값\n",
    "        - ex) set_name(), set_age()\n",
    "    - 어떤 값을 제거(삭제) 함수: remove_삭제할 값\n",
    "        - ex) remove_name(), remove_age()"
   ]
  },
  {
   "cell_type": "code",
   "execution_count": 8,
   "metadata": {},
   "outputs": [],
   "source": [
    "# 함수 정의 - 코드작성 + 실행 (메모리 올려서 호출 할 수 있게 해준다.)\n",
    "def say_hello(): #선언부\n",
    "    #구현부\n",
    "    print(\"안녕하세요.\")\n",
    "    print('Hello')"
   ]
  },
  {
   "cell_type": "code",
   "execution_count": 10,
   "metadata": {},
   "outputs": [
    {
     "name": "stdout",
     "output_type": "stream",
     "text": [
      "안녕하세요.\n",
      "Hello\n"
     ]
    }
   ],
   "source": [
    "#호출 = 함수이름([전달할 값])\n",
    "say_hello()"
   ]
  },
  {
   "cell_type": "code",
   "execution_count": 46,
   "metadata": {},
   "outputs": [],
   "source": [
    "def say_hello2(name): #name: 파라미터\n",
    "    print(f\"{name}님 안녕하세요.\")\n",
    "    print(f'{name}, Hello')"
   ]
  },
  {
   "cell_type": "code",
   "execution_count": 47,
   "metadata": {},
   "outputs": [
    {
     "name": "stdout",
     "output_type": "stream",
     "text": [
      "홍길동님 안녕하세요.\n"
     ]
    }
   ],
   "source": [
    "say_hello2(\"홍길동\")"
   ]
  },
  {
   "cell_type": "code",
   "execution_count": 37,
   "metadata": {},
   "outputs": [],
   "source": [
    "def say_hello3(name):\n",
    "    greeting = f\"{name}님 안녕하세요. {name}, Hello\"\n",
    "    return greeting #반환값(return value) 처리결과로서 호출한 곳에 전달."
   ]
  },
  {
   "cell_type": "code",
   "execution_count": 38,
   "metadata": {},
   "outputs": [
    {
     "name": "stdout",
     "output_type": "stream",
     "text": [
      "이순신님 안녕하세요. 이순신, Hello\n"
     ]
    }
   ],
   "source": [
    "g = say_hello3(\"이순신\")\n",
    "print(g)"
   ]
  },
  {
   "cell_type": "code",
   "execution_count": 48,
   "metadata": {},
   "outputs": [
    {
     "name": "stdout",
     "output_type": "stream",
     "text": [
      "홍길동님 안녕하세요.\n"
     ]
    }
   ],
   "source": [
    "r = say_hello2(\"홍길동\")"
   ]
  },
  {
   "cell_type": "code",
   "execution_count": 49,
   "metadata": {},
   "outputs": [
    {
     "name": "stdout",
     "output_type": "stream",
     "text": [
      "None\n"
     ]
    }
   ],
   "source": [
    "print(r) #return이 없는 함수는 기본적으로 None값을 반환한다."
   ]
  },
  {
   "cell_type": "code",
   "execution_count": 41,
   "metadata": {},
   "outputs": [
    {
     "name": "stdout",
     "output_type": "stream",
     "text": [
      "100\n"
     ]
    }
   ],
   "source": [
    "i = int(\"100\")\n",
    "print(i)"
   ]
  },
  {
   "cell_type": "code",
   "execution_count": 42,
   "metadata": {},
   "outputs": [
    {
     "name": "stdout",
     "output_type": "stream",
     "text": [
      "abc\n",
      "None\n"
     ]
    }
   ],
   "source": [
    "j = print(\"abc\")\n",
    "print(j)"
   ]
  },
  {
   "cell_type": "code",
   "execution_count": 55,
   "metadata": {},
   "outputs": [],
   "source": [
    "# 두 개의 숫자를 받아서 사칙연산 결과를 반환.\n",
    "def calculate(num1, num2): #파라미터는 0개 이상\n",
    "    a = num1 + num2\n",
    "    b = num1 - num2\n",
    "    c = num1 * num2\n",
    "    d = None\n",
    "    # if num2 != 0\n",
    "    if num2: #변수가 True면 실행한다는 뜻(0이면 false)\n",
    "        d = num1 / num2\n",
    "    return a,b,c,d #튜플\n",
    "# return 값. 리턴 값: 반드시 하나만 가능."
   ]
  },
  {
   "cell_type": "code",
   "execution_count": 54,
   "metadata": {},
   "outputs": [
    {
     "data": {
      "text/plain": [
       "True"
      ]
     },
     "execution_count": 54,
     "metadata": {},
     "output_type": "execute_result"
    }
   ],
   "source": [
    "n = 1\n",
    "bool(n)"
   ]
  },
  {
   "cell_type": "code",
   "execution_count": 56,
   "metadata": {},
   "outputs": [
    {
     "name": "stdout",
     "output_type": "stream",
     "text": [
      "(15, 5, 50, 2.0)\n"
     ]
    }
   ],
   "source": [
    "result = calculate(10,5)\n",
    "print(result)"
   ]
  },
  {
   "cell_type": "code",
   "execution_count": 58,
   "metadata": {},
   "outputs": [
    {
     "data": {
      "text/plain": [
       "(10, 10, 0, None)"
      ]
     },
     "execution_count": 58,
     "metadata": {},
     "output_type": "execute_result"
    }
   ],
   "source": [
    "result = calculate(10,0)\n",
    "result"
   ]
  },
  {
   "cell_type": "code",
   "execution_count": 59,
   "metadata": {},
   "outputs": [
    {
     "name": "stdout",
     "output_type": "stream",
     "text": [
      "덧셈:6, 뺄셈:2, 곱셈:8, 나눗셈:2.0\n"
     ]
    }
   ],
   "source": [
    "a,b,c,d = calculate(4,2)\n",
    "print(f\"덧셈:{a}, 뺄셈:{b}, 곱셈:{c}, 나눗셈:{d}\")"
   ]
  },
  {
   "cell_type": "code",
   "execution_count": 60,
   "metadata": {},
   "outputs": [
    {
     "data": {
      "text/plain": [
       "(10, 10, 0, None)"
      ]
     },
     "execution_count": 60,
     "metadata": {},
     "output_type": "execute_result"
    }
   ],
   "source": [
    "result = calculate(10,0)\n",
    "result"
   ]
  },
  {
   "cell_type": "markdown",
   "metadata": {},
   "source": [
    "## 매개변수 선언의 여러가지 문법\n",
    "### Positional Parameter(Argument)\n",
    "- 매개변수를 순서대로 나열한 것.\n",
    "    - ex) def my_func(a, b, c):\n",
    "- 호출할 때 각 파라미터에 전달할 값을 순서대로 나열한다. 전달할 값을 생략할 수 없다.\n",
    "    - ex) my_func(10, 20, 30) a<= 10, b<=20, c<=30\n",
    "    - ex) my_func(10,20) c에 전달할 값이 없으므로 에러."
   ]
  },
  {
   "cell_type": "code",
   "execution_count": 62,
   "metadata": {},
   "outputs": [],
   "source": [
    "def print_info(name, age, tall):\n",
    "    print(f\"이름: {name}, 나이: {age}, 키: {tall}\")"
   ]
  },
  {
   "cell_type": "code",
   "execution_count": 63,
   "metadata": {},
   "outputs": [
    {
     "name": "stdout",
     "output_type": "stream",
     "text": [
      "이름: 홍길동, 나이: 20, 키: 175.8\n"
     ]
    }
   ],
   "source": [
    "print_info(\"홍길동\", 20, 175.8) #positional 인수"
   ]
  },
  {
   "cell_type": "code",
   "execution_count": 64,
   "metadata": {},
   "outputs": [
    {
     "name": "stdout",
     "output_type": "stream",
     "text": [
      "이름: 이순신, 나이: 33, 키: 180\n"
     ]
    }
   ],
   "source": [
    "print_info(age=33, tall=180, name=\"이순신\") #keyword 인수"
   ]
  },
  {
   "cell_type": "code",
   "execution_count": 65,
   "metadata": {},
   "outputs": [
    {
     "name": "stdout",
     "output_type": "stream",
     "text": [
      "이름: 30, 나이: 180, 키: 이순신\n"
     ]
    }
   ],
   "source": [
    "print_info(30, 180, \"이순신\")"
   ]
  },
  {
   "cell_type": "code",
   "execution_count": 66,
   "metadata": {},
   "outputs": [
    {
     "ename": "TypeError",
     "evalue": "print_info() missing 1 required positional argument: 'tall'",
     "output_type": "error",
     "traceback": [
      "\u001b[1;31m---------------------------------------------------------------------------\u001b[0m",
      "\u001b[1;31mTypeError\u001b[0m                                 Traceback (most recent call last)",
      "\u001b[1;32m<ipython-input-66-7e566f1889c2>\u001b[0m in \u001b[0;36m<module>\u001b[1;34m\u001b[0m\n\u001b[1;32m----> 1\u001b[1;33m \u001b[0mprint_info\u001b[0m\u001b[1;33m(\u001b[0m\u001b[1;36m30\u001b[0m\u001b[1;33m,\u001b[0m \u001b[1;36m180\u001b[0m\u001b[1;33m)\u001b[0m\u001b[1;33m\u001b[0m\u001b[1;33m\u001b[0m\u001b[0m\n\u001b[0m",
      "\u001b[1;31mTypeError\u001b[0m: print_info() missing 1 required positional argument: 'tall'"
     ]
    }
   ],
   "source": [
    "print_info(30, 180)"
   ]
  },
  {
   "cell_type": "markdown",
   "metadata": {},
   "source": [
    "### 기본값이 있는 매개변수\n",
    "- 매개변수를 선언할 때 값을 대입한다.\n",
    "- 기본값이 있는 매개변수\n",
    "\n",
    "### Keyword Argument - 키워드 인자\n",
    "- 호출시 전달할 값(Argument)을 어떤 파라미터에 대입할 지 변수명을 이용해 지정할 수 있다.\n"
   ]
  },
  {
   "cell_type": "code",
   "execution_count": 70,
   "metadata": {},
   "outputs": [],
   "source": [
    "# 기본값이 있는 매개변수\n",
    "def print_info2(name=None, age=None, tall=None):\n",
    "    print(f\"이름:{name}, 나이: {age}, 키: {tall}\")"
   ]
  },
  {
   "cell_type": "code",
   "execution_count": 71,
   "metadata": {},
   "outputs": [
    {
     "name": "stdout",
     "output_type": "stream",
     "text": [
      "이름:이순신, 나이: 35, 키: 177.7\n"
     ]
    }
   ],
   "source": [
    "print_info2(\"이순신\", 35, 177.7)"
   ]
  },
  {
   "cell_type": "code",
   "execution_count": 72,
   "metadata": {},
   "outputs": [
    {
     "name": "stdout",
     "output_type": "stream",
     "text": [
      "이름:홍길동, 나이: None, 키: None\n"
     ]
    }
   ],
   "source": [
    "print_info2(\"홍길동\")"
   ]
  },
  {
   "cell_type": "code",
   "execution_count": 73,
   "metadata": {},
   "outputs": [
    {
     "name": "stdout",
     "output_type": "stream",
     "text": [
      "이름: 김영수, 나이: 20, 키: 170\n"
     ]
    }
   ],
   "source": [
    "print_info(tall=170, name='김영수', age=20)"
   ]
  },
  {
   "cell_type": "markdown",
   "metadata": {},
   "source": [
    "#### 기본값이 없는 매개변수와 기본값이 있는 매개변수 같이 선언할 때는 기본값이 없는 매개변수들을 먼저 선언해야 한다."
   ]
  },
  {
   "cell_type": "code",
   "execution_count": 75,
   "metadata": {},
   "outputs": [],
   "source": [
    "# 기본값이 없는 매개변수: 필수\n",
    "# 기본값이 있는 매개변수: 옵션\n",
    "def print_info3(name, age, address, tall=None, weight=None):\n",
    "    print(f\"이름: {name}, 나이: {age}, 키:{tall}, 몸무게: {weight}\")"
   ]
  },
  {
   "cell_type": "code",
   "execution_count": 78,
   "metadata": {},
   "outputs": [
    {
     "name": "stdout",
     "output_type": "stream",
     "text": [
      "이름: 홍길동, 나이: 16, 키:None, 몸무게: None\n"
     ]
    }
   ],
   "source": [
    "print_info3(\"홍길동\", 16, \"서울\")"
   ]
  },
  {
   "cell_type": "code",
   "execution_count": 79,
   "metadata": {},
   "outputs": [],
   "source": [
    "def print_info4(name=None, age=0, address=None, tall=None, weight=None):\n",
    "    print(f\"이름:{name}, 나이: {age}, 키: {tall}, 몸무게:{weight}\")"
   ]
  },
  {
   "cell_type": "code",
   "execution_count": 80,
   "metadata": {},
   "outputs": [
    {
     "name": "stdout",
     "output_type": "stream",
     "text": [
      "이름:None, 나이: 0, 키: 190, 몸무게:None\n"
     ]
    }
   ],
   "source": [
    "# tall에만 값을 전달.\n",
    "print_info4(None, 0, None, 190) # positional 인자"
   ]
  },
  {
   "cell_type": "code",
   "execution_count": 81,
   "metadata": {},
   "outputs": [
    {
     "name": "stdout",
     "output_type": "stream",
     "text": [
      "이름:None, 나이: 0, 키: 190, 몸무게:None\n"
     ]
    }
   ],
   "source": [
    "print_info4(tall=190)"
   ]
  },
  {
   "cell_type": "markdown",
   "metadata": {},
   "source": [
    "## 가변인자\n",
    "- def 함수명(*변수명) : 0 ~ n개의 argument 값들을 튜플로 묶어서 받는다.\n",
    "- 관례적으로 변수명은 args"
   ]
  },
  {
   "cell_type": "code",
   "execution_count": 82,
   "metadata": {},
   "outputs": [],
   "source": [
    "# 리스트를 받아서 총 합계를 구하는 함수\n",
    "def sum_nums(num_list):\n",
    "    print(num_list)"
   ]
  },
  {
   "cell_type": "code",
   "execution_count": 83,
   "metadata": {},
   "outputs": [
    {
     "name": "stdout",
     "output_type": "stream",
     "text": [
      "[1, 3, 4, 5, 6]\n"
     ]
    }
   ],
   "source": [
    "sum_nums([1,3,4,5,6])"
   ]
  },
  {
   "cell_type": "code",
   "execution_count": 84,
   "metadata": {},
   "outputs": [],
   "source": [
    "def sum_nums2(*num_list): #num_list = (1,2,3,4,5,6,7,8,9)\n",
    "    print(num_list)\n",
    "    print(type(num_list))\n",
    "    print(len(num_list))"
   ]
  },
  {
   "cell_type": "code",
   "execution_count": 87,
   "metadata": {},
   "outputs": [],
   "source": [
    "nums = [10,20,30,40]"
   ]
  },
  {
   "cell_type": "code",
   "execution_count": 90,
   "metadata": {},
   "outputs": [
    {
     "name": "stdout",
     "output_type": "stream",
     "text": [
      "(10, 20, 30, 40)\n",
      "<class 'tuple'>\n",
      "4\n"
     ]
    }
   ],
   "source": [
    "sum_nums2(*nums) #*변수명 이기때문에, 변수가 변할 수 있음을 의미."
   ]
  },
  {
   "cell_type": "code",
   "execution_count": 91,
   "metadata": {},
   "outputs": [
    {
     "name": "stdout",
     "output_type": "stream",
     "text": [
      "()\n",
      "<class 'tuple'>\n",
      "0\n"
     ]
    }
   ],
   "source": [
    "sum_nums2()"
   ]
  },
  {
   "cell_type": "code",
   "execution_count": 92,
   "metadata": {},
   "outputs": [
    {
     "name": "stdout",
     "output_type": "stream",
     "text": [
      "(1, 2, 3, 4, 5, 6, 7, 8, 9)\n",
      "<class 'tuple'>\n",
      "9\n"
     ]
    }
   ],
   "source": [
    "sum_nums2(1,2,3,4,5,6,7,8,9)"
   ]
  },
  {
   "cell_type": "markdown",
   "metadata": {},
   "source": [
    "- def 함수명(**변수명)\n",
    "    - 호출할 때 keyword 인자 형태로 전달하고 가변인수는 이것을 dictionary로 처리한다.\n",
    "    - 관례적으로 변수명은 kwargs로 준다."
   ]
  },
  {
   "cell_type": "code",
   "execution_count": null,
   "metadata": {},
   "outputs": [],
   "source": []
  }
 ],
 "metadata": {
  "kernelspec": {
   "display_name": "Python 3",
   "language": "python",
   "name": "python3"
  },
  "language_info": {
   "codemirror_mode": {
    "name": "ipython",
    "version": 3
   },
   "file_extension": ".py",
   "mimetype": "text/x-python",
   "name": "python",
   "nbconvert_exporter": "python",
   "pygments_lexer": "ipython3",
   "version": "3.8.5"
  }
 },
 "nbformat": 4,
 "nbformat_minor": 4
}
